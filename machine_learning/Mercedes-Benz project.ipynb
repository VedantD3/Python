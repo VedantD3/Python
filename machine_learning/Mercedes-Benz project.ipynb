{
 "cells": [
  {
   "cell_type": "markdown",
   "id": "9ffda1a0",
   "metadata": {},
   "source": [
    "# Mercedes-Benz project"
   ]
  },
  {
   "cell_type": "code",
   "execution_count": 1,
   "id": "b94b84bd",
   "metadata": {},
   "outputs": [],
   "source": [
    "import pandas as pd\n",
    "import numpy as np\n",
    "import matplotlib.pyplot as plt\n",
    "import seaborn as sns\n",
    "from sklearn.model_selection import train_test_split"
   ]
  },
  {
   "cell_type": "code",
   "execution_count": 2,
   "id": "4e12661c",
   "metadata": {},
   "outputs": [],
   "source": [
    "import warnings\n",
    "warnings.filterwarnings(\"ignore\")"
   ]
  },
  {
   "cell_type": "code",
   "execution_count": 3,
   "id": "e9133f19",
   "metadata": {},
   "outputs": [],
   "source": [
    "benz_train = pd.read_csv('train.csv')\n",
    "\n",
    "benz_test = pd.read_csv('test.csv')"
   ]
  },
  {
   "cell_type": "code",
   "execution_count": 4,
   "id": "847c1f29",
   "metadata": {},
   "outputs": [],
   "source": [
    "train_df = benz_train.copy()\n",
    "test_df = benz_test.copy()"
   ]
  },
  {
   "cell_type": "code",
   "execution_count": 5,
   "id": "0f46a709",
   "metadata": {},
   "outputs": [
    {
     "data": {
      "text/html": [
       "<div>\n",
       "<style scoped>\n",
       "    .dataframe tbody tr th:only-of-type {\n",
       "        vertical-align: middle;\n",
       "    }\n",
       "\n",
       "    .dataframe tbody tr th {\n",
       "        vertical-align: top;\n",
       "    }\n",
       "\n",
       "    .dataframe thead th {\n",
       "        text-align: right;\n",
       "    }\n",
       "</style>\n",
       "<table border=\"1\" class=\"dataframe\">\n",
       "  <thead>\n",
       "    <tr style=\"text-align: right;\">\n",
       "      <th></th>\n",
       "      <th>ID</th>\n",
       "      <th>y</th>\n",
       "      <th>X0</th>\n",
       "      <th>X1</th>\n",
       "      <th>X2</th>\n",
       "      <th>X3</th>\n",
       "      <th>X4</th>\n",
       "      <th>X5</th>\n",
       "      <th>X6</th>\n",
       "      <th>X8</th>\n",
       "      <th>...</th>\n",
       "      <th>X375</th>\n",
       "      <th>X376</th>\n",
       "      <th>X377</th>\n",
       "      <th>X378</th>\n",
       "      <th>X379</th>\n",
       "      <th>X380</th>\n",
       "      <th>X382</th>\n",
       "      <th>X383</th>\n",
       "      <th>X384</th>\n",
       "      <th>X385</th>\n",
       "    </tr>\n",
       "  </thead>\n",
       "  <tbody>\n",
       "    <tr>\n",
       "      <th>0</th>\n",
       "      <td>0</td>\n",
       "      <td>130.81</td>\n",
       "      <td>k</td>\n",
       "      <td>v</td>\n",
       "      <td>at</td>\n",
       "      <td>a</td>\n",
       "      <td>d</td>\n",
       "      <td>u</td>\n",
       "      <td>j</td>\n",
       "      <td>o</td>\n",
       "      <td>...</td>\n",
       "      <td>0</td>\n",
       "      <td>0</td>\n",
       "      <td>1</td>\n",
       "      <td>0</td>\n",
       "      <td>0</td>\n",
       "      <td>0</td>\n",
       "      <td>0</td>\n",
       "      <td>0</td>\n",
       "      <td>0</td>\n",
       "      <td>0</td>\n",
       "    </tr>\n",
       "    <tr>\n",
       "      <th>1</th>\n",
       "      <td>6</td>\n",
       "      <td>88.53</td>\n",
       "      <td>k</td>\n",
       "      <td>t</td>\n",
       "      <td>av</td>\n",
       "      <td>e</td>\n",
       "      <td>d</td>\n",
       "      <td>y</td>\n",
       "      <td>l</td>\n",
       "      <td>o</td>\n",
       "      <td>...</td>\n",
       "      <td>1</td>\n",
       "      <td>0</td>\n",
       "      <td>0</td>\n",
       "      <td>0</td>\n",
       "      <td>0</td>\n",
       "      <td>0</td>\n",
       "      <td>0</td>\n",
       "      <td>0</td>\n",
       "      <td>0</td>\n",
       "      <td>0</td>\n",
       "    </tr>\n",
       "    <tr>\n",
       "      <th>2</th>\n",
       "      <td>7</td>\n",
       "      <td>76.26</td>\n",
       "      <td>az</td>\n",
       "      <td>w</td>\n",
       "      <td>n</td>\n",
       "      <td>c</td>\n",
       "      <td>d</td>\n",
       "      <td>x</td>\n",
       "      <td>j</td>\n",
       "      <td>x</td>\n",
       "      <td>...</td>\n",
       "      <td>0</td>\n",
       "      <td>0</td>\n",
       "      <td>0</td>\n",
       "      <td>0</td>\n",
       "      <td>0</td>\n",
       "      <td>0</td>\n",
       "      <td>1</td>\n",
       "      <td>0</td>\n",
       "      <td>0</td>\n",
       "      <td>0</td>\n",
       "    </tr>\n",
       "    <tr>\n",
       "      <th>3</th>\n",
       "      <td>9</td>\n",
       "      <td>80.62</td>\n",
       "      <td>az</td>\n",
       "      <td>t</td>\n",
       "      <td>n</td>\n",
       "      <td>f</td>\n",
       "      <td>d</td>\n",
       "      <td>x</td>\n",
       "      <td>l</td>\n",
       "      <td>e</td>\n",
       "      <td>...</td>\n",
       "      <td>0</td>\n",
       "      <td>0</td>\n",
       "      <td>0</td>\n",
       "      <td>0</td>\n",
       "      <td>0</td>\n",
       "      <td>0</td>\n",
       "      <td>0</td>\n",
       "      <td>0</td>\n",
       "      <td>0</td>\n",
       "      <td>0</td>\n",
       "    </tr>\n",
       "    <tr>\n",
       "      <th>4</th>\n",
       "      <td>13</td>\n",
       "      <td>78.02</td>\n",
       "      <td>az</td>\n",
       "      <td>v</td>\n",
       "      <td>n</td>\n",
       "      <td>f</td>\n",
       "      <td>d</td>\n",
       "      <td>h</td>\n",
       "      <td>d</td>\n",
       "      <td>n</td>\n",
       "      <td>...</td>\n",
       "      <td>0</td>\n",
       "      <td>0</td>\n",
       "      <td>0</td>\n",
       "      <td>0</td>\n",
       "      <td>0</td>\n",
       "      <td>0</td>\n",
       "      <td>0</td>\n",
       "      <td>0</td>\n",
       "      <td>0</td>\n",
       "      <td>0</td>\n",
       "    </tr>\n",
       "  </tbody>\n",
       "</table>\n",
       "<p>5 rows × 378 columns</p>\n",
       "</div>"
      ],
      "text/plain": [
       "   ID       y  X0 X1  X2 X3 X4 X5 X6 X8  ...  X375  X376  X377  X378  X379  \\\n",
       "0   0  130.81   k  v  at  a  d  u  j  o  ...     0     0     1     0     0   \n",
       "1   6   88.53   k  t  av  e  d  y  l  o  ...     1     0     0     0     0   \n",
       "2   7   76.26  az  w   n  c  d  x  j  x  ...     0     0     0     0     0   \n",
       "3   9   80.62  az  t   n  f  d  x  l  e  ...     0     0     0     0     0   \n",
       "4  13   78.02  az  v   n  f  d  h  d  n  ...     0     0     0     0     0   \n",
       "\n",
       "   X380  X382  X383  X384  X385  \n",
       "0     0     0     0     0     0  \n",
       "1     0     0     0     0     0  \n",
       "2     0     1     0     0     0  \n",
       "3     0     0     0     0     0  \n",
       "4     0     0     0     0     0  \n",
       "\n",
       "[5 rows x 378 columns]"
      ]
     },
     "execution_count": 5,
     "metadata": {},
     "output_type": "execute_result"
    }
   ],
   "source": [
    "train_df.head()"
   ]
  },
  {
   "cell_type": "code",
   "execution_count": 6,
   "id": "d4fb484c",
   "metadata": {},
   "outputs": [
    {
     "data": {
      "text/html": [
       "<div>\n",
       "<style scoped>\n",
       "    .dataframe tbody tr th:only-of-type {\n",
       "        vertical-align: middle;\n",
       "    }\n",
       "\n",
       "    .dataframe tbody tr th {\n",
       "        vertical-align: top;\n",
       "    }\n",
       "\n",
       "    .dataframe thead th {\n",
       "        text-align: right;\n",
       "    }\n",
       "</style>\n",
       "<table border=\"1\" class=\"dataframe\">\n",
       "  <thead>\n",
       "    <tr style=\"text-align: right;\">\n",
       "      <th></th>\n",
       "      <th>ID</th>\n",
       "      <th>X0</th>\n",
       "      <th>X1</th>\n",
       "      <th>X2</th>\n",
       "      <th>X3</th>\n",
       "      <th>X4</th>\n",
       "      <th>X5</th>\n",
       "      <th>X6</th>\n",
       "      <th>X8</th>\n",
       "      <th>X10</th>\n",
       "      <th>...</th>\n",
       "      <th>X375</th>\n",
       "      <th>X376</th>\n",
       "      <th>X377</th>\n",
       "      <th>X378</th>\n",
       "      <th>X379</th>\n",
       "      <th>X380</th>\n",
       "      <th>X382</th>\n",
       "      <th>X383</th>\n",
       "      <th>X384</th>\n",
       "      <th>X385</th>\n",
       "    </tr>\n",
       "  </thead>\n",
       "  <tbody>\n",
       "    <tr>\n",
       "      <th>0</th>\n",
       "      <td>1</td>\n",
       "      <td>az</td>\n",
       "      <td>v</td>\n",
       "      <td>n</td>\n",
       "      <td>f</td>\n",
       "      <td>d</td>\n",
       "      <td>t</td>\n",
       "      <td>a</td>\n",
       "      <td>w</td>\n",
       "      <td>0</td>\n",
       "      <td>...</td>\n",
       "      <td>0</td>\n",
       "      <td>0</td>\n",
       "      <td>0</td>\n",
       "      <td>1</td>\n",
       "      <td>0</td>\n",
       "      <td>0</td>\n",
       "      <td>0</td>\n",
       "      <td>0</td>\n",
       "      <td>0</td>\n",
       "      <td>0</td>\n",
       "    </tr>\n",
       "    <tr>\n",
       "      <th>1</th>\n",
       "      <td>2</td>\n",
       "      <td>t</td>\n",
       "      <td>b</td>\n",
       "      <td>ai</td>\n",
       "      <td>a</td>\n",
       "      <td>d</td>\n",
       "      <td>b</td>\n",
       "      <td>g</td>\n",
       "      <td>y</td>\n",
       "      <td>0</td>\n",
       "      <td>...</td>\n",
       "      <td>0</td>\n",
       "      <td>0</td>\n",
       "      <td>1</td>\n",
       "      <td>0</td>\n",
       "      <td>0</td>\n",
       "      <td>0</td>\n",
       "      <td>0</td>\n",
       "      <td>0</td>\n",
       "      <td>0</td>\n",
       "      <td>0</td>\n",
       "    </tr>\n",
       "  </tbody>\n",
       "</table>\n",
       "<p>2 rows × 377 columns</p>\n",
       "</div>"
      ],
      "text/plain": [
       "   ID  X0 X1  X2 X3 X4 X5 X6 X8  X10  ...  X375  X376  X377  X378  X379  X380  \\\n",
       "0   1  az  v   n  f  d  t  a  w    0  ...     0     0     0     1     0     0   \n",
       "1   2   t  b  ai  a  d  b  g  y    0  ...     0     0     1     0     0     0   \n",
       "\n",
       "   X382  X383  X384  X385  \n",
       "0     0     0     0     0  \n",
       "1     0     0     0     0  \n",
       "\n",
       "[2 rows x 377 columns]"
      ]
     },
     "execution_count": 6,
     "metadata": {},
     "output_type": "execute_result"
    }
   ],
   "source": [
    "test_df.head(2)"
   ]
  },
  {
   "cell_type": "code",
   "execution_count": 7,
   "id": "ab3bca49",
   "metadata": {},
   "outputs": [
    {
     "name": "stdout",
     "output_type": "stream",
     "text": [
      "<class 'pandas.core.frame.DataFrame'>\n",
      "RangeIndex: 4209 entries, 0 to 4208\n",
      "Columns: 378 entries, ID to X385\n",
      "dtypes: float64(1), int64(369), object(8)\n",
      "memory usage: 12.1+ MB\n"
     ]
    }
   ],
   "source": [
    "train_df.info()"
   ]
  },
  {
   "cell_type": "markdown",
   "id": "957baf97",
   "metadata": {},
   "source": [
    "1. float - 1\n",
    "2. int - 369\n",
    "3. object - 8"
   ]
  },
  {
   "cell_type": "code",
   "execution_count": 8,
   "id": "9a2c33cc",
   "metadata": {},
   "outputs": [
    {
     "name": "stdout",
     "output_type": "stream",
     "text": [
      "<class 'pandas.core.frame.DataFrame'>\n",
      "RangeIndex: 4209 entries, 0 to 4208\n",
      "Columns: 377 entries, ID to X385\n",
      "dtypes: int64(369), object(8)\n",
      "memory usage: 12.1+ MB\n"
     ]
    }
   ],
   "source": [
    "test_df.info()"
   ]
  },
  {
   "cell_type": "markdown",
   "id": "a2a97c93",
   "metadata": {},
   "source": [
    "1. int - 369\n",
    "2. object - 8"
   ]
  },
  {
   "cell_type": "code",
   "execution_count": 9,
   "id": "f7b88e6c",
   "metadata": {},
   "outputs": [
    {
     "data": {
      "text/plain": [
       "{'y'}"
      ]
     },
     "execution_count": 9,
     "metadata": {},
     "output_type": "execute_result"
    }
   ],
   "source": [
    "# Get the column names as sets\n",
    "train_cols = set(train_df.columns)\n",
    "test_cols = set(test_df.columns)\n",
    "\n",
    "# Find the columns that are in df1 but not in df2\n",
    "target = train_cols - test_cols\n",
    "\n",
    "target"
   ]
  },
  {
   "cell_type": "markdown",
   "id": "e779f427",
   "metadata": {},
   "source": [
    "**'y' is the target variable**"
   ]
  },
  {
   "cell_type": "code",
   "execution_count": 10,
   "id": "558b9333",
   "metadata": {},
   "outputs": [
    {
     "data": {
      "text/plain": [
       "0       130.81\n",
       "1        88.53\n",
       "2        76.26\n",
       "3        80.62\n",
       "4        78.02\n",
       "         ...  \n",
       "4204    107.39\n",
       "4205    108.77\n",
       "4206    109.22\n",
       "4207     87.48\n",
       "4208    110.85\n",
       "Name: y, Length: 4209, dtype: float64"
      ]
     },
     "execution_count": 10,
     "metadata": {},
     "output_type": "execute_result"
    }
   ],
   "source": [
    "# remove the traget variable from training df\n",
    "y_train = train_df['y']\n",
    "y_train"
   ]
  },
  {
   "cell_type": "code",
   "execution_count": 11,
   "id": "a8e7534b",
   "metadata": {},
   "outputs": [
    {
     "data": {
      "text/plain": [
       "Index(['ID', 'X0', 'X1', 'X2', 'X3', 'X4', 'X5', 'X6', 'X8', 'X10',\n",
       "       ...\n",
       "       'X375', 'X376', 'X377', 'X378', 'X379', 'X380', 'X382', 'X383', 'X384',\n",
       "       'X385'],\n",
       "      dtype='object', length=377)"
      ]
     },
     "execution_count": 11,
     "metadata": {},
     "output_type": "execute_result"
    }
   ],
   "source": [
    "# Remove 'y' from train_df\n",
    "train_df.drop(columns='y', axis=1, inplace=True)\n",
    "train_df.columns"
   ]
  },
  {
   "cell_type": "code",
   "execution_count": 12,
   "id": "a5c7b98b",
   "metadata": {},
   "outputs": [
    {
     "data": {
      "text/plain": [
       "set()"
      ]
     },
     "execution_count": 12,
     "metadata": {},
     "output_type": "execute_result"
    }
   ],
   "source": [
    "# rechek - set must be empty\n",
    "target = set(train_df.columns) - set(test_df.columns)\n",
    "target"
   ]
  },
  {
   "cell_type": "markdown",
   "id": "e5bf2bea",
   "metadata": {},
   "source": [
    "#### NA values"
   ]
  },
  {
   "cell_type": "code",
   "execution_count": 13,
   "id": "e3e58b3e",
   "metadata": {},
   "outputs": [
    {
     "data": {
      "text/plain": [
       "Series([], dtype: int64)"
      ]
     },
     "execution_count": 13,
     "metadata": {},
     "output_type": "execute_result"
    }
   ],
   "source": [
    "# checking null values\n",
    "train_df.isna().sum()[train_df.isna().sum()>0]"
   ]
  },
  {
   "cell_type": "markdown",
   "id": "d80fe96d",
   "metadata": {},
   "source": [
    "**No null values**"
   ]
  },
  {
   "cell_type": "code",
   "execution_count": 14,
   "id": "4bd9a51c",
   "metadata": {},
   "outputs": [],
   "source": [
    "# get numeric variables columns- int and float\n",
    "train_num_df = train_df.select_dtypes(include='number').copy()"
   ]
  },
  {
   "cell_type": "markdown",
   "id": "8625cc72",
   "metadata": {},
   "source": [
    "#### Remove where varaince is 0"
   ]
  },
  {
   "cell_type": "code",
   "execution_count": 15,
   "id": "a9915be2",
   "metadata": {},
   "outputs": [
    {
     "data": {
      "text/plain": [
       "Index(['X11', 'X93', 'X107', 'X233', 'X235', 'X268', 'X289', 'X290', 'X293',\n",
       "       'X297', 'X330', 'X347'],\n",
       "      dtype='object')"
      ]
     },
     "execution_count": 15,
     "metadata": {},
     "output_type": "execute_result"
    }
   ],
   "source": [
    "zero_var_cols = train_num_df.columns[train_num_df.var()==0]\n",
    "zero_var_cols"
   ]
  },
  {
   "cell_type": "code",
   "execution_count": 16,
   "id": "90139613",
   "metadata": {},
   "outputs": [
    {
     "name": "stdout",
     "output_type": "stream",
     "text": [
      "(4209, 377)\n",
      "(4209, 377)\n",
      "#########################################################\n",
      "(4209, 365)\n",
      "(4209, 365)\n"
     ]
    }
   ],
   "source": [
    "print(train_df.shape)\n",
    "print(test_df.shape)\n",
    "\n",
    "train_df.drop(columns=zero_var_cols, axis=1, inplace=True)\n",
    "\n",
    "test_df.drop(columns=zero_var_cols, axis=1, inplace=True)\n",
    "\n",
    "print('#########################################################')\n",
    "print(train_df.shape)\n",
    "print(test_df.shape)"
   ]
  },
  {
   "cell_type": "markdown",
   "id": "f3dc5e18",
   "metadata": {},
   "source": [
    "#### Check the unique values in each column"
   ]
  },
  {
   "cell_type": "markdown",
   "id": "aafe3cc3",
   "metadata": {},
   "source": [
    "###### In Object variable"
   ]
  },
  {
   "cell_type": "markdown",
   "id": "505eeb94",
   "metadata": {},
   "source": [
    "?? convert it to dataframe without na. Is there simple method, without for loop"
   ]
  },
  {
   "cell_type": "markdown",
   "id": "3b90f2b5",
   "metadata": {},
   "source": [
    "#### Object variable"
   ]
  },
  {
   "cell_type": "code",
   "execution_count": 17,
   "id": "57abbd72",
   "metadata": {},
   "outputs": [],
   "source": [
    "unique_val_dict = {}\n",
    "uniqueVal_num = []\n",
    "for cols in train_df.columns:\n",
    "    unique_val_dict[cols] = train_df[cols].unique()\n",
    "    uniqueVal_num.append(len(train_df[cols].unique()))"
   ]
  },
  {
   "cell_type": "code",
   "execution_count": 18,
   "id": "48eec958",
   "metadata": {
    "scrolled": true
   },
   "outputs": [
    {
     "data": {
      "text/plain": [
       "2"
      ]
     },
     "execution_count": 18,
     "metadata": {},
     "output_type": "execute_result"
    }
   ],
   "source": [
    "# check if there is only one entry (aredy checked before for variance)\n",
    "min(uniqueVal_num)"
   ]
  },
  {
   "cell_type": "code",
   "execution_count": 19,
   "id": "775a2aeb",
   "metadata": {},
   "outputs": [],
   "source": [
    "train_df_dm = pd.get_dummies(train_df,drop_first=True,dtype=int).copy()"
   ]
  },
  {
   "cell_type": "code",
   "execution_count": 20,
   "id": "6b8beaf2",
   "metadata": {},
   "outputs": [
    {
     "name": "stdout",
     "output_type": "stream",
     "text": [
      "(4209, 365)\n",
      "(4209, 544)\n"
     ]
    }
   ],
   "source": [
    "print(train_df.shape)\n",
    "print(train_df_dm.shape)"
   ]
  },
  {
   "cell_type": "code",
   "execution_count": 21,
   "id": "b38f619b",
   "metadata": {},
   "outputs": [],
   "source": [
    "test_df_dm = pd.get_dummies(test_df,drop_first=True,dtype=int).copy()"
   ]
  },
  {
   "cell_type": "code",
   "execution_count": 22,
   "id": "04a851c7",
   "metadata": {},
   "outputs": [
    {
     "name": "stdout",
     "output_type": "stream",
     "text": [
      "(4209, 365)\n",
      "(4209, 550)\n"
     ]
    }
   ],
   "source": [
    "print(test_df.shape)\n",
    "print(test_df_dm.shape)"
   ]
  },
  {
   "cell_type": "code",
   "execution_count": 23,
   "id": "35aff886",
   "metadata": {
    "scrolled": true
   },
   "outputs": [
    {
     "name": "stdout",
     "output_type": "stream",
     "text": [
      "(4209, 544)\n",
      "(4209, 550)\n"
     ]
    }
   ],
   "source": [
    "print(train_df_dm.shape)\n",
    "print(test_df_dm.shape)"
   ]
  },
  {
   "cell_type": "markdown",
   "id": "3de39360",
   "metadata": {},
   "source": [
    "There are uneven number of columns. <br>\n",
    "check the columns which are unique to data frames. <br>\n",
    "add the unique column to other dataframe."
   ]
  },
  {
   "cell_type": "code",
   "execution_count": 24,
   "id": "6597cff8",
   "metadata": {},
   "outputs": [
    {
     "name": "stdout",
     "output_type": "stream",
     "text": [
      "{'X2_o', 'X0_q', 'X0_aa', 'X2_l', 'X2_ar', 'X2_c', 'X5_u', 'X0_ac', 'X2_aa', 'X0_ab'}\n",
      "{'X5_z', 'X0_p', 'X2_ax', 'X0_ag', 'X5_t', 'X0_bb', 'X2_w', 'X5_b', 'X0_av', 'X2_aj', 'X0_ae', 'X2_ad', 'X2_ab', 'X5_aa', 'X2_u', 'X0_an'}\n"
     ]
    }
   ],
   "source": [
    "# Columns present in train but not in test\n",
    "train_dm_cols = set(train_df_dm.columns)\n",
    "test_dm_cols = set(test_df_dm.columns)\n",
    "\n",
    "# Find the columns that are in df1 but not in df2\n",
    "cols_notInTest = train_dm_cols - test_dm_cols\n",
    "cols_NotInTrain = test_dm_cols - train_dm_cols \n",
    "\n",
    "print(cols_notInTest)\n",
    "print(cols_NotInTrain)"
   ]
  },
  {
   "cell_type": "code",
   "execution_count": 25,
   "id": "14a6da4b",
   "metadata": {},
   "outputs": [],
   "source": [
    "# making train and test df same\n",
    "test_df_dm[list(cols_notInTest)] = 0 \n",
    "train_df_dm[list(cols_NotInTrain)] = 0"
   ]
  },
  {
   "cell_type": "code",
   "execution_count": 26,
   "id": "b41fbb1d",
   "metadata": {},
   "outputs": [
    {
     "data": {
      "text/plain": [
       "set()"
      ]
     },
     "execution_count": 26,
     "metadata": {},
     "output_type": "execute_result"
    }
   ],
   "source": [
    "# Recheck - set must be empty\n",
    "train_dm_cols = set(train_df_dm.columns)\n",
    "test_dm_cols = set(test_df_dm.columns)\n",
    "\n",
    "cols_notInTest = train_dm_cols - test_dm_cols\n",
    "\n",
    "cols_notInTest"
   ]
  },
  {
   "cell_type": "code",
   "execution_count": 27,
   "id": "fc5fdb93",
   "metadata": {
    "scrolled": true
   },
   "outputs": [
    {
     "name": "stdout",
     "output_type": "stream",
     "text": [
      "(4209, 560)\n",
      "(4209, 560)\n"
     ]
    }
   ],
   "source": [
    "print(train_df_dm.shape)\n",
    "print(test_df_dm.shape)"
   ]
  },
  {
   "cell_type": "markdown",
   "id": "1af7db49",
   "metadata": {},
   "source": [
    "Now I have same columns, but not in same order"
   ]
  },
  {
   "cell_type": "markdown",
   "id": "b721407c",
   "metadata": {},
   "source": [
    "##### Seperate the object variables "
   ]
  },
  {
   "cell_type": "code",
   "execution_count": 28,
   "id": "90d4e490",
   "metadata": {},
   "outputs": [
    {
     "data": {
      "text/plain": [
       "Index(['ID', 'X10', 'X12', 'X13', 'X14', 'X15', 'X16', 'X17', 'X18', 'X19',\n",
       "       ...\n",
       "       'X2_w', 'X5_b', 'X0_av', 'X2_aj', 'X0_ae', 'X2_ad', 'X2_ab', 'X5_aa',\n",
       "       'X2_u', 'X0_an'],\n",
       "      dtype='object', length=560)"
      ]
     },
     "execution_count": 28,
     "metadata": {},
     "output_type": "execute_result"
    }
   ],
   "source": [
    "train_df_dm.columns"
   ]
  },
  {
   "cell_type": "code",
   "execution_count": 29,
   "id": "fa80d6b6",
   "metadata": {},
   "outputs": [
    {
     "name": "stdout",
     "output_type": "stream",
     "text": [
      "(4209, 559)\n",
      "(4209, 559)\n"
     ]
    }
   ],
   "source": [
    "# x_train, removing unncessary ID column\n",
    "x_train = train_df_dm.drop(['ID'], axis=1)\n",
    "x_test = test_df_dm.drop(['ID'], axis=1)\n",
    "\n",
    "print(x_train.shape)\n",
    "print(x_test.shape)"
   ]
  },
  {
   "cell_type": "code",
   "execution_count": 30,
   "id": "1190a749",
   "metadata": {},
   "outputs": [],
   "source": [
    "# x_test, removing unncessary ID column\n",
    "test_ID = test_df['ID']"
   ]
  },
  {
   "cell_type": "code",
   "execution_count": 31,
   "id": "337f1bd7",
   "metadata": {},
   "outputs": [],
   "source": [
    "# object_cols_trn = train_df.select_dtypes(include='O').columns\n",
    "# print(object_cols_trn)\n",
    "\n",
    "\n",
    "# object_cosl_tst = test_df.select_dtypes(include='O').columns\n",
    "# print(object_cosl_tst)"
   ]
  },
  {
   "cell_type": "markdown",
   "id": "d98fc637",
   "metadata": {},
   "source": [
    "### Dimentionality reduction"
   ]
  },
  {
   "cell_type": "code",
   "execution_count": 32,
   "id": "e284b18d",
   "metadata": {},
   "outputs": [],
   "source": [
    "from sklearn.decomposition import PCA"
   ]
  },
  {
   "cell_type": "markdown",
   "id": "9115a776",
   "metadata": {},
   "source": [
    "###### Need to get the columns in same order"
   ]
  },
  {
   "cell_type": "code",
   "execution_count": 33,
   "id": "a01304f7",
   "metadata": {},
   "outputs": [],
   "source": [
    "# need to reindex the column so that there will not be mismatch between the column name.\n",
    "x_train = x_train.reindex(sorted(x_train.columns), axis=1)\n",
    "x_test = x_test.reindex(sorted(x_test.columns),axis=1)"
   ]
  },
  {
   "cell_type": "code",
   "execution_count": 34,
   "id": "ae120371",
   "metadata": {},
   "outputs": [],
   "source": [
    "# PCA\n",
    "n = 10\n",
    "pca = PCA(n_components=n, random_state=420)\n",
    "\n",
    "pca_train = pca.fit_transform(x_train)\n",
    "pca_test = pca.transform(x_test)"
   ]
  },
  {
   "cell_type": "code",
   "execution_count": 35,
   "id": "ada6a116",
   "metadata": {},
   "outputs": [
    {
     "data": {
      "text/plain": [
       "array([[ 0.8170922 , -1.35926451,  1.93980338, ..., -0.99616517,\n",
       "         0.20548763, -0.28926406],\n",
       "       [-0.10149853, -1.29439531, -0.09148895, ..., -0.72926317,\n",
       "        -0.02133291,  0.61680647],\n",
       "       [-0.66852392, -2.43478081,  1.69808554, ...,  0.67068979,\n",
       "        -0.93299104, -0.21619101],\n",
       "       ...,\n",
       "       [-1.03441763, -0.48418073,  1.80068791, ..., -2.01213795,\n",
       "         1.69191594,  0.13462591],\n",
       "       [ 0.39026624, -1.17253956, -3.10414196, ..., -0.89381021,\n",
       "        -0.1981668 ,  0.5881941 ],\n",
       "       [ 0.96356487, -0.9003372 , -0.90648918, ...,  1.98087962,\n",
       "        -0.27203155, -0.01176265]])"
      ]
     },
     "execution_count": 35,
     "metadata": {},
     "output_type": "execute_result"
    }
   ],
   "source": [
    "pca_train"
   ]
  },
  {
   "cell_type": "code",
   "execution_count": 36,
   "id": "4d03382f",
   "metadata": {},
   "outputs": [
    {
     "data": {
      "text/plain": [
       "array([[-0.401256  , -2.85732946,  0.24490776, ...,  0.04480954,\n",
       "        -1.72439204, -0.29399195],\n",
       "       [ 3.8307679 ,  0.39083024,  1.47659678, ..., -1.23199923,\n",
       "        -1.06581093,  0.16215339],\n",
       "       [-1.31917026, -0.73310014,  0.47122988, ...,  0.68990007,\n",
       "        -1.44161518,  0.36926825],\n",
       "       ...,\n",
       "       [-1.44146861,  0.55557245, -2.91831286, ...,  0.50473256,\n",
       "        -0.475243  ,  0.44424245],\n",
       "       [-2.33387597,  1.278664  ,  1.59549699, ..., -0.23753291,\n",
       "        -0.09081795, -0.88683734],\n",
       "       [ 2.02367305, -0.92685731, -0.54364858, ..., -0.71547076,\n",
       "        -0.71010002, -0.07067852]])"
      ]
     },
     "execution_count": 36,
     "metadata": {},
     "output_type": "execute_result"
    }
   ],
   "source": [
    "pca_test"
   ]
  },
  {
   "cell_type": "code",
   "execution_count": 37,
   "id": "6b5aa7b7",
   "metadata": {},
   "outputs": [],
   "source": [
    "import xgboost as xgb\n",
    "from sklearn.metrics import r2_score"
   ]
  },
  {
   "cell_type": "code",
   "execution_count": 39,
   "id": "cdbb22d7",
   "metadata": {},
   "outputs": [],
   "source": [
    "x_train, x_testSub, y_train, y_testSub = train_test_split(\n",
    "        pca_train, \n",
    "        y_train, test_size=0.25, \n",
    "        random_state=100)"
   ]
  },
  {
   "cell_type": "markdown",
   "id": "ddfea44a",
   "metadata": {},
   "source": [
    "testSub - sub section of the same dataframe, selected for test"
   ]
  },
  {
   "cell_type": "code",
   "execution_count": 40,
   "id": "53491f33",
   "metadata": {},
   "outputs": [],
   "source": [
    "# input matrix\n",
    "dmat_train = xgb.DMatrix(x_train, label=y_train) # check how lebel works (y is target variable)\n",
    "dmat_testSub = xgb.DMatrix(x_testSub, label=y_testSub)"
   ]
  },
  {
   "cell_type": "code",
   "execution_count": 41,
   "id": "c4d3ba1c",
   "metadata": {},
   "outputs": [
    {
     "name": "stdout",
     "output_type": "stream",
     "text": [
      "<xgboost.core.DMatrix object at 0x000002646277D010>\n",
      "<xgboost.core.DMatrix object at 0x0000026453FF2E90>\n"
     ]
    }
   ],
   "source": [
    "print(dmat_train)\n",
    "print(dmat_testSub)"
   ]
  },
  {
   "cell_type": "code",
   "execution_count": 43,
   "id": "d3431ccd",
   "metadata": {},
   "outputs": [],
   "source": [
    "dmat_test = xgb.DMatrix(pca_test) # without lebles, need to add the lebels later"
   ]
  },
  {
   "cell_type": "code",
   "execution_count": 53,
   "id": "cdd4f4ba",
   "metadata": {},
   "outputs": [],
   "source": [
    "params = {}\n",
    "params['objective'] = 'reg:linear'\n",
    "params['eta'] = 0.02\n",
    "params['max_depth'] = 4\n"
   ]
  },
  {
   "cell_type": "code",
   "execution_count": 57,
   "id": "d5489c12",
   "metadata": {},
   "outputs": [],
   "source": [
    "def xgboost_r2(preds, dtrain):\n",
    "    labels = dtrain.get_label()\n",
    "    return 'r2', r2_score(labels, preds)"
   ]
  },
  {
   "cell_type": "code",
   "execution_count": 59,
   "id": "82d2eeb1",
   "metadata": {},
   "outputs": [
    {
     "name": "stdout",
     "output_type": "stream",
     "text": [
      "[13:45:22] WARNING: C:\\buildkite-agent\\builds\\buildkite-windows-cpu-autoscaling-group-i-0fdc6d574b9c0d168-1\\xgboost\\xgboost-ci-windows\\src\\objective\\regression_obj.cu:213: reg:linear is now deprecated in favor of reg:squarederror.\n",
      "[0]\ttrain-rmse:98.75160\ttrain-r2:-64.47981\ttest1-rmse:99.65705\ttest1-r2:-49.73367\n",
      "[10]\ttrain-rmse:80.90589\ttrain-r2:-42.95208\ttest1-rmse:81.92900\ttest1-r2:-33.28905\n",
      "[20]\ttrain-rmse:66.35451\ttrain-r2:-28.56378\ttest1-rmse:67.48379\ttest1-r2:-22.26372\n",
      "[30]\ttrain-rmse:54.49760\ttrain-r2:-18.94224\ttest1-rmse:55.73750\ttest1-r2:-14.86994\n",
      "[40]\ttrain-rmse:44.84662\ttrain-r2:-12.50450\ttest1-rmse:46.21290\ttest1-r2:-9.90955\n",
      "[50]\ttrain-rmse:36.99991\ttrain-r2:-8.19222\ttest1-rmse:38.49123\ttest1-r2:-6.56840\n",
      "[60]\ttrain-rmse:30.64375\ttrain-r2:-5.30526\ttest1-rmse:32.26935\ttest1-r2:-4.31937\n",
      "[70]\ttrain-rmse:25.51448\ttrain-r2:-3.37112\ttest1-rmse:27.29177\ttest1-r2:-2.80490\n",
      "[80]\ttrain-rmse:21.39706\ttrain-r2:-2.07417\ttest1-rmse:23.34246\ttest1-r2:-1.78338\n",
      "[90]\ttrain-rmse:18.11201\ttrain-r2:-1.20268\ttest1-rmse:20.23912\ttest1-r2:-1.09249\n",
      "[100]\ttrain-rmse:15.51288\ttrain-r2:-0.61586\ttest1-rmse:17.82374\ttest1-r2:-0.62285\n",
      "[110]\ttrain-rmse:13.47757\ttrain-r2:-0.21967\ttest1-rmse:15.97359\ttest1-r2:-0.30342\n",
      "[120]\ttrain-rmse:11.91006\ttrain-r2:0.04754\ttest1-rmse:14.57680\ttest1-r2:-0.08544\n",
      "[130]\ttrain-rmse:10.71881\ttrain-r2:0.22854\ttest1-rmse:13.54255\ttest1-r2:0.06313\n",
      "[140]\ttrain-rmse:9.82809\ttrain-r2:0.35143\ttest1-rmse:12.76980\ttest1-r2:0.16699\n",
      "[150]\ttrain-rmse:9.16734\ttrain-r2:0.43571\ttest1-rmse:12.21297\ttest1-r2:0.23806\n",
      "[160]\ttrain-rmse:8.69343\ttrain-r2:0.49254\ttest1-rmse:11.82237\ttest1-r2:0.28601\n",
      "[170]\ttrain-rmse:8.34930\ttrain-r2:0.53192\ttest1-rmse:11.53928\ttest1-r2:0.31980\n",
      "[180]\ttrain-rmse:8.09145\ttrain-r2:0.56039\ttest1-rmse:11.33494\ttest1-r2:0.34368\n",
      "[190]\ttrain-rmse:7.90617\ttrain-r2:0.58029\ttest1-rmse:11.19049\ttest1-r2:0.36030\n",
      "[200]\ttrain-rmse:7.76820\ttrain-r2:0.59481\ttest1-rmse:11.08446\ttest1-r2:0.37236\n",
      "[210]\ttrain-rmse:7.66174\ttrain-r2:0.60584\ttest1-rmse:11.00240\ttest1-r2:0.38162\n",
      "[220]\ttrain-rmse:7.58336\ttrain-r2:0.61386\ttest1-rmse:10.94803\ttest1-r2:0.38772\n",
      "[230]\ttrain-rmse:7.51557\ttrain-r2:0.62074\ttest1-rmse:10.90705\ttest1-r2:0.39229\n",
      "[240]\ttrain-rmse:7.46098\ttrain-r2:0.62622\ttest1-rmse:10.87318\ttest1-r2:0.39606\n",
      "[250]\ttrain-rmse:7.41666\ttrain-r2:0.63065\ttest1-rmse:10.85739\ttest1-r2:0.39781\n",
      "[260]\ttrain-rmse:7.37467\ttrain-r2:0.63482\ttest1-rmse:10.83616\ttest1-r2:0.40017\n",
      "[270]\ttrain-rmse:7.33432\ttrain-r2:0.63881\ttest1-rmse:10.81966\ttest1-r2:0.40199\n",
      "[280]\ttrain-rmse:7.29763\ttrain-r2:0.64241\ttest1-rmse:10.80756\ttest1-r2:0.40333\n",
      "[290]\ttrain-rmse:7.26518\ttrain-r2:0.64558\ttest1-rmse:10.79337\ttest1-r2:0.40489\n",
      "[300]\ttrain-rmse:7.23528\ttrain-r2:0.64850\ttest1-rmse:10.78369\ttest1-r2:0.40596\n",
      "[310]\ttrain-rmse:7.20850\ttrain-r2:0.65109\ttest1-rmse:10.77761\ttest1-r2:0.40663\n",
      "[320]\ttrain-rmse:7.17828\ttrain-r2:0.65401\ttest1-rmse:10.77268\ttest1-r2:0.40717\n",
      "[330]\ttrain-rmse:7.15251\ttrain-r2:0.65649\ttest1-rmse:10.76902\ttest1-r2:0.40758\n",
      "[340]\ttrain-rmse:7.12922\ttrain-r2:0.65873\ttest1-rmse:10.76462\ttest1-r2:0.40806\n",
      "[350]\ttrain-rmse:7.10782\ttrain-r2:0.66077\ttest1-rmse:10.76170\ttest1-r2:0.40838\n",
      "[360]\ttrain-rmse:7.08761\ttrain-r2:0.66270\ttest1-rmse:10.75966\ttest1-r2:0.40861\n",
      "[370]\ttrain-rmse:7.07080\ttrain-r2:0.66430\ttest1-rmse:10.75667\ttest1-r2:0.40893\n",
      "[380]\ttrain-rmse:7.04843\ttrain-r2:0.66642\ttest1-rmse:10.75371\ttest1-r2:0.40926\n",
      "[390]\ttrain-rmse:7.02943\ttrain-r2:0.66821\ttest1-rmse:10.75161\ttest1-r2:0.40949\n",
      "[400]\ttrain-rmse:7.00516\ttrain-r2:0.67050\ttest1-rmse:10.74946\ttest1-r2:0.40973\n",
      "[410]\ttrain-rmse:6.98460\ttrain-r2:0.67243\ttest1-rmse:10.74937\ttest1-r2:0.40974\n",
      "[420]\ttrain-rmse:6.96856\ttrain-r2:0.67393\ttest1-rmse:10.75121\ttest1-r2:0.40953\n",
      "[430]\ttrain-rmse:6.94950\ttrain-r2:0.67572\ttest1-rmse:10.74715\ttest1-r2:0.40998\n",
      "[440]\ttrain-rmse:6.92771\ttrain-r2:0.67775\ttest1-rmse:10.74410\ttest1-r2:0.41031\n",
      "[450]\ttrain-rmse:6.90528\ttrain-r2:0.67983\ttest1-rmse:10.74236\ttest1-r2:0.41051\n",
      "[460]\ttrain-rmse:6.88538\ttrain-r2:0.68167\ttest1-rmse:10.74166\ttest1-r2:0.41058\n",
      "[470]\ttrain-rmse:6.86411\ttrain-r2:0.68364\ttest1-rmse:10.74008\ttest1-r2:0.41076\n",
      "[480]\ttrain-rmse:6.84271\ttrain-r2:0.68561\ttest1-rmse:10.73652\ttest1-r2:0.41115\n",
      "[490]\ttrain-rmse:6.82619\ttrain-r2:0.68712\ttest1-rmse:10.73603\ttest1-r2:0.41120\n",
      "[500]\ttrain-rmse:6.80277\ttrain-r2:0.68926\ttest1-rmse:10.73500\ttest1-r2:0.41131\n",
      "[510]\ttrain-rmse:6.78512\ttrain-r2:0.69088\ttest1-rmse:10.73788\ttest1-r2:0.41100\n",
      "[520]\ttrain-rmse:6.76607\ttrain-r2:0.69261\ttest1-rmse:10.73585\ttest1-r2:0.41122\n",
      "[530]\ttrain-rmse:6.74834\ttrain-r2:0.69422\ttest1-rmse:10.73888\ttest1-r2:0.41089\n",
      "[540]\ttrain-rmse:6.73227\ttrain-r2:0.69567\ttest1-rmse:10.73817\ttest1-r2:0.41097\n",
      "[545]\ttrain-rmse:6.72148\ttrain-r2:0.69665\ttest1-rmse:10.73996\ttest1-r2:0.41077\n"
     ]
    }
   ],
   "source": [
    "watchlist = [(dmat_train, 'train'), (dmat_testSub, 'test1')]\n",
    "\n",
    "clf = xgb.train(params, dmat_train, \n",
    "                1000, watchlist, early_stopping_rounds=50, feval=xgboost_r2,\n",
    "                 maximize=True, verbose_eval=10)"
   ]
  },
  {
   "cell_type": "code",
   "execution_count": 62,
   "id": "426b1889",
   "metadata": {},
   "outputs": [],
   "source": [
    "#Predict test_df values - xgboost\n",
    "\n",
    "p_test = clf.predict(dmat_test)\n",
    "\n",
    "sub = pd.DataFrame()\n",
    "sub['ID'] = test_ID\n",
    "sub['y'] = p_test\n"
   ]
  },
  {
   "cell_type": "code",
   "execution_count": 63,
   "id": "710866d5",
   "metadata": {},
   "outputs": [
    {
     "data": {
      "text/html": [
       "<div>\n",
       "<style scoped>\n",
       "    .dataframe tbody tr th:only-of-type {\n",
       "        vertical-align: middle;\n",
       "    }\n",
       "\n",
       "    .dataframe tbody tr th {\n",
       "        vertical-align: top;\n",
       "    }\n",
       "\n",
       "    .dataframe thead th {\n",
       "        text-align: right;\n",
       "    }\n",
       "</style>\n",
       "<table border=\"1\" class=\"dataframe\">\n",
       "  <thead>\n",
       "    <tr style=\"text-align: right;\">\n",
       "      <th></th>\n",
       "      <th>ID</th>\n",
       "      <th>y</th>\n",
       "    </tr>\n",
       "  </thead>\n",
       "  <tbody>\n",
       "    <tr>\n",
       "      <th>0</th>\n",
       "      <td>1</td>\n",
       "      <td>82.082756</td>\n",
       "    </tr>\n",
       "    <tr>\n",
       "      <th>1</th>\n",
       "      <td>2</td>\n",
       "      <td>93.808975</td>\n",
       "    </tr>\n",
       "    <tr>\n",
       "      <th>2</th>\n",
       "      <td>3</td>\n",
       "      <td>78.811989</td>\n",
       "    </tr>\n",
       "    <tr>\n",
       "      <th>3</th>\n",
       "      <td>4</td>\n",
       "      <td>83.335892</td>\n",
       "    </tr>\n",
       "    <tr>\n",
       "      <th>4</th>\n",
       "      <td>5</td>\n",
       "      <td>109.577301</td>\n",
       "    </tr>\n",
       "    <tr>\n",
       "      <th>...</th>\n",
       "      <td>...</td>\n",
       "      <td>...</td>\n",
       "    </tr>\n",
       "    <tr>\n",
       "      <th>4204</th>\n",
       "      <td>8410</td>\n",
       "      <td>105.182632</td>\n",
       "    </tr>\n",
       "    <tr>\n",
       "      <th>4205</th>\n",
       "      <td>8411</td>\n",
       "      <td>92.493462</td>\n",
       "    </tr>\n",
       "    <tr>\n",
       "      <th>4206</th>\n",
       "      <td>8413</td>\n",
       "      <td>95.453529</td>\n",
       "    </tr>\n",
       "    <tr>\n",
       "      <th>4207</th>\n",
       "      <td>8414</td>\n",
       "      <td>113.283005</td>\n",
       "    </tr>\n",
       "    <tr>\n",
       "      <th>4208</th>\n",
       "      <td>8416</td>\n",
       "      <td>95.437157</td>\n",
       "    </tr>\n",
       "  </tbody>\n",
       "</table>\n",
       "<p>4209 rows × 2 columns</p>\n",
       "</div>"
      ],
      "text/plain": [
       "        ID           y\n",
       "0        1   82.082756\n",
       "1        2   93.808975\n",
       "2        3   78.811989\n",
       "3        4   83.335892\n",
       "4        5  109.577301\n",
       "...    ...         ...\n",
       "4204  8410  105.182632\n",
       "4205  8411   92.493462\n",
       "4206  8413   95.453529\n",
       "4207  8414  113.283005\n",
       "4208  8416   95.437157\n",
       "\n",
       "[4209 rows x 2 columns]"
      ]
     },
     "execution_count": 63,
     "metadata": {},
     "output_type": "execute_result"
    }
   ],
   "source": [
    "sub"
   ]
  },
  {
   "cell_type": "code",
   "execution_count": null,
   "id": "00d24a68",
   "metadata": {},
   "outputs": [],
   "source": []
  }
 ],
 "metadata": {
  "kernelspec": {
   "display_name": "Python 3 (ipykernel)",
   "language": "python",
   "name": "python3"
  },
  "language_info": {
   "codemirror_mode": {
    "name": "ipython",
    "version": 3
   },
   "file_extension": ".py",
   "mimetype": "text/x-python",
   "name": "python",
   "nbconvert_exporter": "python",
   "pygments_lexer": "ipython3",
   "version": "3.11.3"
  }
 },
 "nbformat": 4,
 "nbformat_minor": 5
}
